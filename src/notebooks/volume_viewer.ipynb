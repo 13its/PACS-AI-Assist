{
 "cells": [
  {
   "cell_type": "markdown",
   "id": "f8f10f69",
   "metadata": {},
   "source": [
    "# PACS-AI Assist — Volume Viewer (LIDC-IDRI)\n",
    "\n",
    "Este notebook carga un **volumen CT 3D** desde tu subset de LIDC-IDRI y ofrece:\n",
    "- Sliders **axial, coronal, sagital** (con `ipywidgets`).\n",
    "- **Cine loop** (animación) axial.\n",
    "- Filtro robusto para elegir una **serie con PixelData**.\n",
    "\n",
    "> Ajusta `BASE_DIR` solo si moviste la carpeta `data/`. El resto se autodetecta.\n"
   ]
  },
  {
   "cell_type": "code",
   "execution_count": 2,
   "id": "ed4b38dd",
   "metadata": {},
   "outputs": [
    {
     "name": "stdout",
     "output_type": "stream",
     "text": [
      "Note: you may need to restart the kernel to use updated packages.\n"
     ]
    }
   ],
   "source": [
    "# Ejecuta una sola vez por entorno (.venv)\n",
    "%pip install -q ipywidgets==8.1.2 jupyterlab-widgets==3.0.10 numpy matplotlib pydicom\n"
   ]
  },
  {
   "cell_type": "code",
   "execution_count": null,
   "id": "ef015905",
   "metadata": {},
   "outputs": [],
   "source": [
    "from pathlib import Path\n",
    "import pydicom, numpy as np, matplotlib.pyplot as plt\n",
    "from ipywidgets import interact, IntSlider, FloatSlider, HBox\n",
    "from collections import defaultdict\n",
    "\n",
    "# 📁 ajusta solo si cambiaste la ruta base\n",
    "BASE_DIR = Path(\"data/LIDC-IDRI_subset\")\n",
    "\n",
    "# --- Autodetección de manifest/LIDC-IDRI ---\n",
    "manifests = sorted([p for p in BASE_DIR.iterdir() if p.is_dir() and p.name.startswith(\"manifest-\")])\n",
    "assert manifests, f\"No encontré 'manifest-*' dentro de {BASE_DIR.resolve()}\"\n",
    "DATA_ROOT = manifests[-1] / \"LIDC-IDRI\"\n",
    "\n",
    "patients = [p for p in DATA_ROOT.iterdir() if p.is_dir() and p.name.startswith(\"LIDC-IDRI-\")]\n",
    "assert patients, f\"No hay carpetas de pacientes dentro de {DATA_ROOT}\"\n",
    "print(\"Pacientes disponibles:\", \", \".join(p.name for p in patients))\n"
   ]
  },
  {
   "cell_type": "code",
   "execution_count": null,
   "id": "6aaa0065",
   "metadata": {},
   "outputs": [],
   "source": [
    "def pick_series_with_pixels(patient_dir: Path):\n",
    "    series = defaultdict(list)\n",
    "    for fp in patient_dir.rglob(\"*.dcm\"):\n",
    "        try:\n",
    "            ds = pydicom.dcmread(fp, stop_before_pixels=True, force=True)\n",
    "            uid = getattr(ds, \"SeriesInstanceUID\", None)\n",
    "            if uid:\n",
    "                series[uid].append(fp)\n",
    "        except Exception:\n",
    "            pass\n",
    "\n",
    "    def good(files):\n",
    "        for f in files[:2]:\n",
    "            try:\n",
    "                ds = pydicom.dcmread(f, force=True)\n",
    "                _ = ds.pixel_array\n",
    "                return True\n",
    "            except Exception:\n",
    "                pass\n",
    "        return False\n",
    "\n",
    "    for uid, files in sorted(series.items(), key=lambda kv: -len(kv[1])):\n",
    "        if good(files):\n",
    "            return uid, files\n",
    "    raise RuntimeError(\"No encontré series con PixelData en este paciente.\")\n",
    "\n",
    "def order_key(fp: Path):\n",
    "    ds = pydicom.dcmread(fp, stop_before_pixels=True, force=True)\n",
    "    ipp = getattr(ds, \"ImagePositionPatient\", None)\n",
    "    if ipp and len(ipp) == 3:\n",
    "        return float(ipp[2])\n",
    "    inst = getattr(ds, \"InstanceNumber\", None)\n",
    "    return (inst is None, inst, str(fp))\n",
    "\n",
    "def load_volume_from_patient(patient_dir: Path):\n",
    "    uid, files = pick_series_with_pixels(patient_dir)\n",
    "    files = sorted(files, key=order_key)\n",
    "    ex = pydicom.dcmread(files[0], force=True)\n",
    "    slope = float(getattr(ex, \"RescaleSlope\", 1.0) or 1.0)\n",
    "    intercept = float(getattr(ex, \"RescaleIntercept\", 0.0) or 0.0)\n",
    "    vol = np.stack([pydicom.dcmread(f, force=True).pixel_array.astype(np.float32)*slope+intercept for f in files], axis=0)\n",
    "    spacing = getattr(ex, \"PixelSpacing\", [1,1])\n",
    "    slice_thk = float(getattr(ex, \"SliceThickness\", 1.0) or 1.0)\n",
    "    meta = {\n",
    "        \"patient_id\": getattr(ex, \"PatientID\", \"Unknown\"),\n",
    "        \"series_uid\": uid,\n",
    "        \"spacing\": (slice_thk, float(spacing[0]), float(spacing[1]))\n",
    "    }\n",
    "    return vol, meta\n"
   ]
  },
  {
   "cell_type": "code",
   "execution_count": null,
   "id": "13927858",
   "metadata": {},
   "outputs": [],
   "source": [
    "patient_default = max(patients, key=lambda p: sum(1 for _ in p.rglob(\"*.dcm\")))\n",
    "VOL, META = load_volume_from_patient(patient_default)\n",
    "print(f\"Paciente elegido: {patient_default.name}\")\n",
    "print(f\"Volumen shape (z,y,x): {VOL.shape}  |  Spacing (mm): {META['spacing']}  | Series: {META['series_uid']}\")\n"
   ]
  },
  {
   "cell_type": "code",
   "execution_count": null,
   "id": "000058b6",
   "metadata": {},
   "outputs": [],
   "source": [
    "# controles de ventana\n",
    "wl_slider = FloatSlider(description=\"WL\", value=-600.0, min=-1200, max=200, step=10, continuous_update=False)\n",
    "ww_slider = FloatSlider(description=\"WW\", value=1500.0, min=200, max=3000, step=50, continuous_update=False)\n",
    "\n",
    "def show_slice(k:int, plane=\"axial\"):\n",
    "    wl, ww = wl_slider.value, ww_slider.value\n",
    "    vmin, vmax = wl - ww/2, wl + ww/2\n",
    "    if plane == \"axial\":\n",
    "        img = VOL[k]; title = f\"Axial z={k}\"\n",
    "    elif plane == \"coronal\":\n",
    "        img = VOL[:, k, :]; title = f\"Coronal y={k}\"\n",
    "    else:\n",
    "        img = VOL[:, :, k]; title = f\"Sagital x={k}\"\n",
    "    plt.figure(figsize=(6,6))\n",
    "    plt.imshow(img, cmap=\"gray\", vmin=vmin, vmax=vmax)\n",
    "    plt.title(f\"{META['patient_id']} · {title} · WL {wl:.0f} WW {ww:.0f}\")\n",
    "    plt.axis(\"off\")\n",
    "    plt.show()\n",
    "\n",
    "print(\"Axial\")\n",
    "_ = interact(lambda k: show_slice(k, \"axial\"),\n",
    "             k=IntSlider(min=0, max=VOL.shape[0]-1, step=1, value=VOL.shape[0]//2))\n",
    "display(HBox([wl_slider, ww_slider]))\n",
    "\n",
    "print(\"Coronal\")\n",
    "_ = interact(lambda k: show_slice(k, \"coronal\"),\n",
    "             k=IntSlider(min=0, max=VOL.shape[1]-1, step=1, value=VOL.shape[1]//2))\n",
    "\n",
    "print(\"Sagital\")\n",
    "_ = interact(lambda k: show_slice(k, \"sagittal\"),\n",
    "             k=IntSlider(min=0, max=VOL.shape[2]-1, step=1, value=VOL.shape[2]//2))\n"
   ]
  },
  {
   "cell_type": "code",
   "execution_count": null,
   "id": "d2233810",
   "metadata": {},
   "outputs": [],
   "source": [
    "import matplotlib.animation as animation\n",
    "\n",
    "wl, ww = wl_slider.value, ww_slider.value\n",
    "vmin, vmax = wl - ww/2, wl + ww/2\n",
    "\n",
    "fig, ax = plt.subplots(figsize=(6,6))\n",
    "im = ax.imshow(VOL[0], cmap=\"gray\", vmin=vmin, vmax=vmax)\n",
    "ax.axis(\"off\")\n",
    "\n",
    "def update(i):\n",
    "    im.set_data(VOL[i])\n",
    "    return [im]\n",
    "\n",
    "ani = animation.FuncAnimation(fig, update, frames=VOL.shape[0], interval=40, blit=True)\n",
    "plt.show()\n"
   ]
  }
 ],
 "metadata": {
  "kernelspec": {
   "display_name": ".venv",
   "language": "python",
   "name": "python3"
  },
  "language_info": {
   "codemirror_mode": {
    "name": "ipython",
    "version": 3
   },
   "file_extension": ".py",
   "mimetype": "text/x-python",
   "name": "python",
   "nbconvert_exporter": "python",
   "pygments_lexer": "ipython3",
   "version": "3.12.9"
  }
 },
 "nbformat": 4,
 "nbformat_minor": 5
}
